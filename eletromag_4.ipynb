{
 "cells": [
  {
   "cell_type": "code",
   "execution_count": 2,
   "metadata": {},
   "outputs": [],
   "source": [
    "import numpy as np\n",
    "import matplotlib.pyplot as plt"
   ]
  },
  {
   "cell_type": "code",
   "execution_count": 3,
   "metadata": {},
   "outputs": [],
   "source": [
    "# Y = Potencial Elétrico ; X = corrente elétrica\n",
    "X = np.array([5.5,12.5,19.8,26.5,33.5,40.8,47.8,54.8,61.8,68.1])\n",
    "Y = np.array([2,4.9,7.5,10.3,13.1,16.1,18.9,21.5,24.2,27.1])\n"
   ]
  },
  {
   "cell_type": "code",
   "execution_count": 4,
   "metadata": {},
   "outputs": [
    {
     "name": "stdout",
     "output_type": "stream",
     "text": [
      "[ 0.39815595 -0.21556732]\n"
     ]
    }
   ],
   "source": [
    "mod_linear = np.polyfit(X, Y , 1) \n",
    "print(mod_linear)"
   ]
  },
  {
   "cell_type": "code",
   "execution_count": 6,
   "metadata": {},
   "outputs": [
    {
     "name": "stdout",
     "output_type": "stream",
     "text": [
      "0.3981559503366709\n"
     ]
    }
   ],
   "source": [
    "#y = ax+b\n",
    "a = float(mod_linear[0])\n",
    "b = float(mod_linear[1])\n",
    "print(a)"
   ]
  },
  {
   "cell_type": "code",
   "execution_count": 8,
   "metadata": {},
   "outputs": [
    {
     "name": "stdout",
     "output_type": "stream",
     "text": [
      "[ 1.97429041  4.76138206  7.6679205  10.33556537 13.12265702 16.02919546\n",
      " 18.81628711 21.60337876 24.39047041 26.8988529 ]\n"
     ]
    }
   ],
   "source": [
    "y_mod = a*X + b\n",
    "print(y_mod)"
   ]
  },
  {
   "cell_type": "code",
   "execution_count": 9,
   "metadata": {},
   "outputs": [
    {
     "data": {
      "image/png": "[encoded data removed]",
      "text/plain": [
       "<Figure size 576x576 with 1 Axes>"
      ]
     },
     "metadata": {
      "needs_background": "light"
     },
     "output_type": "display_data"
    }
   ],
   "source": [
    "plt.figure( figsize=(8,8))\n",
    "plt.plot(X,Y, \"o\",)\n",
    "plt.plot(X,y_mod, \"-r\")\n",
    "plt.xlabel(\"Corrente Elétrica (i)\")\n",
    "plt.ylabel(\"Tensão Contínua (V)\")\n",
    "plt.show()"
   ]
  },
  {
   "cell_type": "code",
   "execution_count": 10,
   "metadata": {},
   "outputs": [
    {
     "name": "stdout",
     "output_type": "stream",
     "text": [
      "coeficiente de determinação do ajuste é 0.9998\n"
     ]
    }
   ],
   "source": [
    "#R²\n",
    "yresid = Y - y_mod\n",
    "SQresid = sum(yresid**2)\n",
    "y_tot = Y- np.mean(Y)\n",
    "SQtotal = sum(y_tot**2)\n",
    "R2 = 1 - SQresid/SQtotal\n",
    "print ('coeficiente de determinação do ajuste é {:.4f}'.format(R2))"
   ]
  },
  {
   "cell_type": "code",
   "execution_count": 11,
   "metadata": {},
   "outputs": [
    {
     "name": "stdout",
     "output_type": "stream",
     "text": [
      "[0.00066098 0.01921493 0.02819729 0.0012649  0.00051334 0.00501328\n",
      " 0.00700785 0.01068717 0.03627898 0.04046016]\n"
     ]
    }
   ],
   "source": [
    "s = (yresid**2)\n",
    "print(s)"
   ]
  },
  {
   "cell_type": "code",
   "execution_count": 12,
   "metadata": {},
   "outputs": [
    {
     "name": "stdout",
     "output_type": "stream",
     "text": [
      "0.19319606590762872\n"
     ]
    }
   ],
   "source": [
    "#incerteza em  Y\n",
    "iny = np.sqrt((1/4)*sum(s))\n",
    "print(iny)"
   ]
  },
  {
   "cell_type": "code",
   "execution_count": 13,
   "metadata": {},
   "outputs": [
    {
     "name": "stdout",
     "output_type": "stream",
     "text": [
      "8.437640533809068\n"
     ]
    }
   ],
   "source": [
    "#desvio padrão amostral\n",
    "dp_y = np.std(Y ,ddof=1 )\n",
    "print(dp_y)"
   ]
  },
  {
   "cell_type": "code",
   "execution_count": 14,
   "metadata": {},
   "outputs": [
    {
     "name": "stdout",
     "output_type": "stream",
     "text": [
      "0.4852271220466927\n"
     ]
    }
   ],
   "source": [
    "#incerteza x \n",
    "inx = iny/a\n",
    "print(inx)"
   ]
  },
  {
   "cell_type": "code",
   "execution_count": 15,
   "metadata": {},
   "outputs": [
    {
     "name": "stdout",
     "output_type": "stream",
     "text": [
      "21.189329075425363\n"
     ]
    }
   ],
   "source": [
    "dp_x = np.std(X, ddof=1)\n",
    "print(dp_x)"
   ]
  },
  {
   "cell_type": "code",
   "execution_count": 16,
   "metadata": {},
   "outputs": [
    {
     "name": "stdout",
     "output_type": "stream",
     "text": [
      "0.0028832418481841335\n"
     ]
    }
   ],
   "source": [
    "#incerteza a \n",
    "sig_a = (1/dp_x)*(iny/np.sqrt(10))\n",
    "print(sig_a)"
   ]
  },
  {
   "cell_type": "code",
   "execution_count": 17,
   "metadata": {},
   "outputs": [
    {
     "name": "stdout",
     "output_type": "stream",
     "text": [
      "0.3981559503366709\n"
     ]
    }
   ],
   "source": [
    "r_1 = a \n",
    "print(r_1)"
   ]
  },
  {
   "cell_type": "code",
   "execution_count": 18,
   "metadata": {},
   "outputs": [
    {
     "name": "stdout",
     "output_type": "stream",
     "text": [
      "0.007241488782840329\n"
     ]
    }
   ],
   "source": [
    "#erro relativo\n",
    "er = sig_a / a \n",
    "print(er)"
   ]
  },
  {
   "cell_type": "code",
   "execution_count": 19,
   "metadata": {},
   "outputs": [
    {
     "data": {
      "text/plain": [
       "0.7241488782840328"
      ]
     },
     "execution_count": 19,
     "metadata": {},
     "output_type": "execute_result"
    }
   ],
   "source": [
    "er*100"
   ]
  },
  {
   "cell_type": "code",
   "execution_count": 27,
   "metadata": {},
   "outputs": [
    {
     "name": "stdout",
     "output_type": "stream",
     "text": [
      "a resistência final é :0.3982 ohms\n"
     ]
    }
   ],
   "source": [
    "# resultado final \n",
    "print ('a resistência final é :{:.4f} ohms'.format(a))\n"
   ]
  },
  {
   "cell_type": "code",
   "execution_count": null,
   "metadata": {},
   "outputs": [],
   "source": [
    "# R = (0.398 +- 0.002) ohms."
   ]
  },
  {
   "cell_type": "code",
   "execution_count": null,
   "metadata": {},
   "outputs": [],
   "source": []
  },
  {
   "cell_type": "code",
   "execution_count": null,
   "metadata": {},
   "outputs": [],
   "source": []
  },
  {
   "cell_type": "code",
   "execution_count": null,
   "metadata": {},
   "outputs": [],
   "source": []
  }
 ],
 "metadata": {
  "interpreter": {
   "hash": "9770b81a940ee4ca758c65310e82ec927cff00926aa4e3f76eb4c250c98300d2"
  },
  "kernelspec": {
   "display_name": "Python 3.9.7 64-bit (system)",
   "language": "python",
   "name": "python3"
  },
  "language_info": {
   "codemirror_mode": {
    "name": "ipython",
    "version": 3
   },
   "file_extension": ".py",
   "mimetype": "text/x-python",
   "name": "python",
   "nbconvert_exporter": "python",
   "pygments_lexer": "ipython3",
   "version": "3.8.5"
  },
  "orig_nbformat": 4
 },
 "nbformat": 4,
 "nbformat_minor": 2
}
